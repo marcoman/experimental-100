{
  "cells": [
    {
      "cell_type": "markdown",
      "metadata": {
        "colab_type": "text",
        "id": "MAAKxOwsGxuj"
      },
      "source": [
        "## Get the Data\n",
        "\n",
        "Either use the provided .csv file or (optionally) get fresh (the freshest?) data from running an SQL query on StackExchange: \n",
        "\n",
        "Follow this link to run the query from [StackExchange](https://data.stackexchange.com/stackoverflow/query/675441/popular-programming-languages-per-over-time-eversql-com) to get your own .csv file\n",
        "\n",
        "<code>\n",
        "select dateadd(month, datediff(month, 0, q.CreationDate), 0) m, TagName, count(*)\n",
        "from PostTags pt\n",
        "join Posts q on q.Id=pt.PostId\n",
        "join Tags t on t.Id=pt.TagId\n",
        "where TagName in ('java','c','c++','python','c#','javascript','assembly','php','perl','ruby','visual basic','swift','r','object-c','scratch','go','swift','delphi')\n",
        "and q.CreationDate < dateadd(month, datediff(month, 0, getdate()), 0)\n",
        "group by dateadd(month, datediff(month, 0, q.CreationDate), 0), TagName\n",
        "order by dateadd(month, datediff(month, 0, q.CreationDate), 0)\n",
        "</code>"
      ]
    },
    {
      "cell_type": "markdown",
      "metadata": {},
      "source": [
        "My code looks like this:\n",
        "\n",
        "```\n",
        "select dateadd(month, datediff(month, 0, q.CreationDate), 0) m, TagName, count(*)\n",
        "from PostTags pt\n",
        "join Posts q on q.Id=pt.PostId\n",
        "join Tags t on t.Id=pt.TagId\n",
        "where TagName in ('java','c','c++','python','c#','javascript','assembly','php','perl','ruby','visual basic','swift','r','object-c','scratch','go','swift','delphi')\n",
        "and q.CreationDate < dateadd(month, datediff(month, 0, getdate()), 0)\n",
        "group by dateadd(month, datediff(month, 0, q.CreationDate), 0), TagName\n",
        "order by dateadd(month, datediff(month, 0, q.CreationDate), 0)\n",
        "\n",
        "```"
      ]
    },
    {
      "cell_type": "markdown",
      "metadata": {
        "colab_type": "text",
        "id": "u5KcSXt1Gxuk"
      },
      "source": [
        "## Import Statements"
      ]
    },
    {
      "cell_type": "code",
      "execution_count": 130,
      "metadata": {
        "colab": {},
        "colab_type": "code",
        "id": "Ru4Wq-pXGxuk"
      },
      "outputs": [],
      "source": [
        "import pandas as pd\n",
        "import matplotlib.pyplot as plt"
      ]
    },
    {
      "cell_type": "markdown",
      "metadata": {
        "colab_type": "text",
        "id": "xEP6beuEGxun"
      },
      "source": [
        "## Data Exploration"
      ]
    },
    {
      "cell_type": "markdown",
      "metadata": {
        "colab_type": "text",
        "id": "w3Q75B4CGxun"
      },
      "source": [
        "**Challenge**: Read the .csv file and store it in a Pandas dataframe"
      ]
    },
    {
      "cell_type": "code",
      "execution_count": 14,
      "metadata": {
        "colab": {},
        "colab_type": "code",
        "id": "Bm7hQtEGIiri"
      },
      "outputs": [
        {
          "name": "stdout",
          "output_type": "stream",
          "text": [
            "                  date         tag  posts\n",
            "0  2008-07-01 00:00:00          c#      3\n",
            "1  2008-08-01 00:00:00    assembly      8\n",
            "2  2008-08-01 00:00:00  javascript    162\n",
            "3  2008-08-01 00:00:00           c     85\n",
            "4  2008-08-01 00:00:00      python    124\n"
          ]
        }
      ],
      "source": [
        "df = pd.read_csv('QueryResults.csv', names=[\"date\", \"tag\", \"posts\"], header=0)\n",
        "print (df.head())"
      ]
    },
    {
      "cell_type": "markdown",
      "metadata": {
        "colab_type": "text",
        "id": "x2WnDM75Gxup"
      },
      "source": [
        "**Challenge**: Examine the first 5 rows and the last 5 rows of the of the dataframe"
      ]
    },
    {
      "cell_type": "code",
      "execution_count": 15,
      "metadata": {
        "colab": {},
        "colab_type": "code",
        "id": "50oqpUxVIiJf"
      },
      "outputs": [
        {
          "name": "stdout",
          "output_type": "stream",
          "text": [
            "\n",
            " The Head is:\n",
            "                  date         tag  posts\n",
            "0  2008-07-01 00:00:00          c#      3\n",
            "1  2008-08-01 00:00:00    assembly      8\n",
            "2  2008-08-01 00:00:00  javascript    162\n",
            "3  2008-08-01 00:00:00           c     85\n",
            "4  2008-08-01 00:00:00      python    124\n",
            "\n",
            " The Tail is:\n",
            "                     date    tag  posts\n",
            "1986  2020-07-01 00:00:00      r   5694\n",
            "1987  2020-07-01 00:00:00     go    743\n",
            "1988  2020-07-01 00:00:00   ruby    775\n",
            "1989  2020-07-01 00:00:00   perl    182\n",
            "1990  2020-07-01 00:00:00  swift   3607\n"
          ]
        }
      ],
      "source": [
        "print(\"\\n The Head is:\")\n",
        "print(df.head())\n",
        "\n",
        "print(\"\\n The Tail is:\")\n",
        "print(df.tail())"
      ]
    },
    {
      "cell_type": "markdown",
      "metadata": {
        "colab_type": "text",
        "id": "0o9hvVgyGxus"
      },
      "source": [
        "**Challenge:** Check how many rows and how many columns there are. \n",
        "What are the dimensions of the dataframe?"
      ]
    },
    {
      "cell_type": "code",
      "execution_count": 16,
      "metadata": {
        "colab": {},
        "colab_type": "code",
        "id": "ZUidjCPFIho8"
      },
      "outputs": [
        {
          "data": {
            "text/plain": [
              "(1991, 3)"
            ]
          },
          "execution_count": 16,
          "metadata": {},
          "output_type": "execute_result"
        }
      ],
      "source": [
        "df.shape"
      ]
    },
    {
      "cell_type": "markdown",
      "metadata": {
        "colab_type": "text",
        "id": "ybZkNLmxGxuu"
      },
      "source": [
        "**Challenge**: Count the number of entries in each column of the dataframe"
      ]
    },
    {
      "cell_type": "code",
      "execution_count": 29,
      "metadata": {
        "colab": {},
        "colab_type": "code",
        "id": "Sc1dmmOoIg2g"
      },
      "outputs": [
        {
          "name": "stdout",
          "output_type": "stream",
          "text": [
            "Number of date=1991\n",
            "Number of tag=1991\n",
            "Number of posts=1991\n"
          ]
        },
        {
          "data": {
            "text/plain": [
              "date     1991\n",
              "tag      1991\n",
              "posts    1991\n",
              "dtype: int64"
            ]
          },
          "execution_count": 29,
          "metadata": {},
          "output_type": "execute_result"
        }
      ],
      "source": [
        "print (f\"Number of date={df['date'].count()}\")\n",
        "print (f\"Number of tag={df['tag'].count()}\")\n",
        "print (f\"Number of posts={df['posts'].count()}\")\n",
        "df.count()"
      ]
    },
    {
      "cell_type": "markdown",
      "metadata": {
        "colab_type": "text",
        "id": "hlnfFsscGxuw"
      },
      "source": [
        "**Challenge**: Calculate the total number of post per language.\n",
        "Which Programming language has had the highest total number of posts of all time?"
      ]
    },
    {
      "cell_type": "code",
      "execution_count": 87,
      "metadata": {
        "colab": {},
        "colab_type": "code",
        "id": "9-NYFONcIc1X"
      },
      "outputs": [
        {
          "name": "stdout",
          "output_type": "stream",
          "text": [
            "tag\n",
            "assembly        34852\n",
            "c              336042\n",
            "c#            1423530\n",
            "c++            684210\n",
            "delphi          46212\n",
            "go              47499\n",
            "java          1696403\n",
            "javascript    2056510\n",
            "perl            65286\n",
            "php           1361988\n",
            "python        1496210\n",
            "r              356799\n",
            "ruby           214582\n",
            "swift          273055\n",
            "Name: posts, dtype: int64\n",
            "tag\n",
            "javascript    2056510\n",
            "java          1696403\n",
            "python        1496210\n",
            "c#            1423530\n",
            "php           1361988\n",
            "c++            684210\n",
            "r              356799\n",
            "c              336042\n",
            "swift          273055\n",
            "ruby           214582\n",
            "perl            65286\n",
            "go              47499\n",
            "delphi          46212\n",
            "assembly        34852\n",
            "Name: posts, dtype: int64\n"
          ]
        }
      ],
      "source": [
        "print(df.groupby('tag')['posts'].sum())\n",
        "\n",
        "print(df.groupby('tag')['posts'].sum().sort_values(ascending=False))\n",
        "\n",
        "#df[df.groupby(['tag'])['posts'].transform(\"max\") == df['posts']].sort_values(ascending=False, by='posts')\n",
        "\n"
      ]
    },
    {
      "cell_type": "markdown",
      "metadata": {
        "colab_type": "text",
        "id": "iVCesB49Gxuz"
      },
      "source": [
        "Some languages are older (e.g., C) and other languages are newer (e.g., Swift). The dataset starts in September 2008.\n",
        "\n",
        "**Challenge**: How many months of data exist per language? Which language had the fewest months with an entry? \n"
      ]
    },
    {
      "cell_type": "code",
      "execution_count": 95,
      "metadata": {
        "colab": {},
        "colab_type": "code",
        "id": "hDT4JlJNJfgQ"
      },
      "outputs": [
        {
          "name": "stdout",
          "output_type": "stream",
          "text": [
            "            date  posts\n",
            "tag                    \n",
            "go           129    129\n",
            "swift        135    135\n",
            "r            142    142\n",
            "assembly     144    144\n",
            "java         144    144\n",
            "delphi       144    144\n",
            "c++          144    144\n",
            "c            144    144\n",
            "python       144    144\n",
            "javascript   144    144\n",
            "php          144    144\n",
            "perl         144    144\n",
            "ruby         144    144\n",
            "c#           145    145\n"
          ]
        }
      ],
      "source": [
        "#print (df.groupby('tag').count())\n",
        "print (df.groupby('tag').count().sort_values('date', ascending=True))"
      ]
    },
    {
      "cell_type": "markdown",
      "metadata": {
        "colab_type": "text",
        "id": "arguGp3ZGxu1"
      },
      "source": [
        "## Data Cleaning\n",
        "\n",
        "Let's fix the date format to make it more readable. We need to use Pandas to change format from a string of \"2008-07-01 00:00:00\" to a datetime object with the format of \"2008-07-01\""
      ]
    },
    {
      "cell_type": "code",
      "execution_count": 100,
      "metadata": {
        "colab": {},
        "colab_type": "code",
        "id": "5nh5a4UtGxu1"
      },
      "outputs": [
        {
          "name": "stdout",
          "output_type": "stream",
          "text": [
            "2008-08-01 00:00:00\n",
            "2008-08-01 00:00:00\n"
          ]
        },
        {
          "data": {
            "text/plain": [
              "str"
            ]
          },
          "execution_count": 100,
          "metadata": {},
          "output_type": "execute_result"
        }
      ],
      "source": [
        "print(df['date'][1])\n",
        "print(df.date[1])\n",
        "type(df['date'][1])"
      ]
    },
    {
      "cell_type": "code",
      "execution_count": 103,
      "metadata": {
        "colab": {},
        "colab_type": "code",
        "id": "016H-Fy4Gxu3"
      },
      "outputs": [
        {
          "name": "stdout",
          "output_type": "stream",
          "text": [
            "2008-08-01 00:00:00\n",
            "<class 'pandas._libs.tslibs.timestamps.Timestamp'>\n"
          ]
        },
        {
          "data": {
            "text/html": [
              "<div>\n",
              "<style scoped>\n",
              "    .dataframe tbody tr th:only-of-type {\n",
              "        vertical-align: middle;\n",
              "    }\n",
              "\n",
              "    .dataframe tbody tr th {\n",
              "        vertical-align: top;\n",
              "    }\n",
              "\n",
              "    .dataframe thead th {\n",
              "        text-align: right;\n",
              "    }\n",
              "</style>\n",
              "<table border=\"1\" class=\"dataframe\">\n",
              "  <thead>\n",
              "    <tr style=\"text-align: right;\">\n",
              "      <th></th>\n",
              "      <th>date</th>\n",
              "      <th>tag</th>\n",
              "      <th>posts</th>\n",
              "    </tr>\n",
              "  </thead>\n",
              "  <tbody>\n",
              "    <tr>\n",
              "      <th>0</th>\n",
              "      <td>2008-07-01</td>\n",
              "      <td>c#</td>\n",
              "      <td>3</td>\n",
              "    </tr>\n",
              "    <tr>\n",
              "      <th>1</th>\n",
              "      <td>2008-08-01</td>\n",
              "      <td>assembly</td>\n",
              "      <td>8</td>\n",
              "    </tr>\n",
              "    <tr>\n",
              "      <th>2</th>\n",
              "      <td>2008-08-01</td>\n",
              "      <td>javascript</td>\n",
              "      <td>162</td>\n",
              "    </tr>\n",
              "    <tr>\n",
              "      <th>3</th>\n",
              "      <td>2008-08-01</td>\n",
              "      <td>c</td>\n",
              "      <td>85</td>\n",
              "    </tr>\n",
              "    <tr>\n",
              "      <th>4</th>\n",
              "      <td>2008-08-01</td>\n",
              "      <td>python</td>\n",
              "      <td>124</td>\n",
              "    </tr>\n",
              "  </tbody>\n",
              "</table>\n",
              "</div>"
            ],
            "text/plain": [
              "        date         tag  posts\n",
              "0 2008-07-01          c#      3\n",
              "1 2008-08-01    assembly      8\n",
              "2 2008-08-01  javascript    162\n",
              "3 2008-08-01           c     85\n",
              "4 2008-08-01      python    124"
            ]
          },
          "execution_count": 103,
          "metadata": {},
          "output_type": "execute_result"
        }
      ],
      "source": [
        "print(pd.to_datetime(df.date[1]))\n",
        "print(type (pd.to_datetime(df.date[1])))\n",
        "df.date=pd.to_datetime(df.date)\n",
        "df.head()"
      ]
    },
    {
      "cell_type": "code",
      "execution_count": 5,
      "metadata": {
        "colab": {},
        "colab_type": "code",
        "id": "4EiSd7pdGxu5"
      },
      "outputs": [],
      "source": []
    },
    {
      "cell_type": "markdown",
      "metadata": {
        "colab_type": "text",
        "id": "rWAV6tuzGxu6"
      },
      "source": [
        "## Data Manipulation\n",
        "\n"
      ]
    },
    {
      "cell_type": "code",
      "execution_count": 104,
      "metadata": {
        "colab": {},
        "colab_type": "code",
        "id": "aHhbulJaGxu7"
      },
      "outputs": [
        {
          "data": {
            "text/html": [
              "<div>\n",
              "<style scoped>\n",
              "    .dataframe tbody tr th:only-of-type {\n",
              "        vertical-align: middle;\n",
              "    }\n",
              "\n",
              "    .dataframe tbody tr th {\n",
              "        vertical-align: top;\n",
              "    }\n",
              "\n",
              "    .dataframe thead th {\n",
              "        text-align: right;\n",
              "    }\n",
              "</style>\n",
              "<table border=\"1\" class=\"dataframe\">\n",
              "  <thead>\n",
              "    <tr style=\"text-align: right;\">\n",
              "      <th></th>\n",
              "      <th>Age</th>\n",
              "      <th>Actor</th>\n",
              "      <th>Power</th>\n",
              "    </tr>\n",
              "  </thead>\n",
              "  <tbody>\n",
              "    <tr>\n",
              "      <th>0</th>\n",
              "      <td>Young</td>\n",
              "      <td>Jack</td>\n",
              "      <td>100</td>\n",
              "    </tr>\n",
              "    <tr>\n",
              "      <th>1</th>\n",
              "      <td>Young</td>\n",
              "      <td>Arnold</td>\n",
              "      <td>80</td>\n",
              "    </tr>\n",
              "    <tr>\n",
              "      <th>2</th>\n",
              "      <td>Young</td>\n",
              "      <td>Keanu</td>\n",
              "      <td>25</td>\n",
              "    </tr>\n",
              "    <tr>\n",
              "      <th>3</th>\n",
              "      <td>Young</td>\n",
              "      <td>Sylvester</td>\n",
              "      <td>50</td>\n",
              "    </tr>\n",
              "    <tr>\n",
              "      <th>4</th>\n",
              "      <td>Old</td>\n",
              "      <td>Jack</td>\n",
              "      <td>99</td>\n",
              "    </tr>\n",
              "    <tr>\n",
              "      <th>5</th>\n",
              "      <td>Old</td>\n",
              "      <td>Arnold</td>\n",
              "      <td>75</td>\n",
              "    </tr>\n",
              "    <tr>\n",
              "      <th>6</th>\n",
              "      <td>Old</td>\n",
              "      <td>Keanu</td>\n",
              "      <td>5</td>\n",
              "    </tr>\n",
              "    <tr>\n",
              "      <th>7</th>\n",
              "      <td>Old</td>\n",
              "      <td>Sylvester</td>\n",
              "      <td>30</td>\n",
              "    </tr>\n",
              "  </tbody>\n",
              "</table>\n",
              "</div>"
            ],
            "text/plain": [
              "     Age      Actor  Power\n",
              "0  Young       Jack    100\n",
              "1  Young     Arnold     80\n",
              "2  Young      Keanu     25\n",
              "3  Young  Sylvester     50\n",
              "4    Old       Jack     99\n",
              "5    Old     Arnold     75\n",
              "6    Old      Keanu      5\n",
              "7    Old  Sylvester     30"
            ]
          },
          "execution_count": 104,
          "metadata": {},
          "output_type": "execute_result"
        }
      ],
      "source": [
        "test_df = pd.DataFrame({'Age': ['Young', 'Young', 'Young', 'Young', 'Old', 'Old', 'Old', 'Old'],\n",
        "                        'Actor': ['Jack', 'Arnold', 'Keanu', 'Sylvester', 'Jack', 'Arnold', 'Keanu', 'Sylvester'],\n",
        "                        'Power': [100, 80, 25, 50, 99, 75, 5, 30]})\n",
        "test_df"
      ]
    },
    {
      "cell_type": "markdown",
      "metadata": {
        "colab_type": "text",
        "id": "RWKcVIyFKwHM"
      },
      "source": [
        "**Challenge**: What are the dimensions of our new dataframe? How many rows and columns does it have? Print out the column names and print out the first 5 rows of the dataframe."
      ]
    },
    {
      "cell_type": "code",
      "execution_count": 105,
      "metadata": {
        "colab": {},
        "colab_type": "code",
        "id": "v-u4FcLXGxu9"
      },
      "outputs": [
        {
          "data": {
            "text/plain": [
              "(8, 3)"
            ]
          },
          "execution_count": 105,
          "metadata": {},
          "output_type": "execute_result"
        }
      ],
      "source": [
        "test_df.shape"
      ]
    },
    {
      "cell_type": "code",
      "execution_count": 109,
      "metadata": {
        "colab": {},
        "colab_type": "code",
        "id": "NUyBcaMMGxu-"
      },
      "outputs": [
        {
          "data": {
            "text/html": [
              "<div>\n",
              "<style scoped>\n",
              "    .dataframe tbody tr th:only-of-type {\n",
              "        vertical-align: middle;\n",
              "    }\n",
              "\n",
              "    .dataframe tbody tr th {\n",
              "        vertical-align: top;\n",
              "    }\n",
              "\n",
              "    .dataframe thead th {\n",
              "        text-align: right;\n",
              "    }\n",
              "</style>\n",
              "<table border=\"1\" class=\"dataframe\">\n",
              "  <thead>\n",
              "    <tr style=\"text-align: right;\">\n",
              "      <th>Actor</th>\n",
              "      <th>Arnold</th>\n",
              "      <th>Jack</th>\n",
              "      <th>Keanu</th>\n",
              "      <th>Sylvester</th>\n",
              "    </tr>\n",
              "    <tr>\n",
              "      <th>Age</th>\n",
              "      <th></th>\n",
              "      <th></th>\n",
              "      <th></th>\n",
              "      <th></th>\n",
              "    </tr>\n",
              "  </thead>\n",
              "  <tbody>\n",
              "    <tr>\n",
              "      <th>Old</th>\n",
              "      <td>75</td>\n",
              "      <td>99</td>\n",
              "      <td>5</td>\n",
              "      <td>30</td>\n",
              "    </tr>\n",
              "    <tr>\n",
              "      <th>Young</th>\n",
              "      <td>80</td>\n",
              "      <td>100</td>\n",
              "      <td>25</td>\n",
              "      <td>50</td>\n",
              "    </tr>\n",
              "  </tbody>\n",
              "</table>\n",
              "</div>"
            ],
            "text/plain": [
              "Actor  Arnold  Jack  Keanu  Sylvester\n",
              "Age                                  \n",
              "Old        75    99      5         30\n",
              "Young      80   100     25         50"
            ]
          },
          "execution_count": 109,
          "metadata": {},
          "output_type": "execute_result"
        }
      ],
      "source": [
        "pivoted_df=test_df.pivot(index='Age', columns='Actor', values='Power')\n",
        "pivoted_df"
      ]
    },
    {
      "cell_type": "code",
      "execution_count": 157,
      "metadata": {
        "colab": {},
        "colab_type": "code",
        "id": "LnUIOL3LGxvA"
      },
      "outputs": [
        {
          "data": {
            "text/html": [
              "<div>\n",
              "<style scoped>\n",
              "    .dataframe tbody tr th:only-of-type {\n",
              "        vertical-align: middle;\n",
              "    }\n",
              "\n",
              "    .dataframe tbody tr th {\n",
              "        vertical-align: top;\n",
              "    }\n",
              "\n",
              "    .dataframe thead th {\n",
              "        text-align: right;\n",
              "    }\n",
              "</style>\n",
              "<table border=\"1\" class=\"dataframe\">\n",
              "  <thead>\n",
              "    <tr style=\"text-align: right;\">\n",
              "      <th>tag</th>\n",
              "      <th>assembly</th>\n",
              "      <th>c</th>\n",
              "      <th>c#</th>\n",
              "      <th>c++</th>\n",
              "      <th>delphi</th>\n",
              "      <th>go</th>\n",
              "      <th>java</th>\n",
              "      <th>javascript</th>\n",
              "      <th>perl</th>\n",
              "      <th>php</th>\n",
              "      <th>python</th>\n",
              "      <th>r</th>\n",
              "      <th>ruby</th>\n",
              "      <th>swift</th>\n",
              "    </tr>\n",
              "    <tr>\n",
              "      <th>date</th>\n",
              "      <th></th>\n",
              "      <th></th>\n",
              "      <th></th>\n",
              "      <th></th>\n",
              "      <th></th>\n",
              "      <th></th>\n",
              "      <th></th>\n",
              "      <th></th>\n",
              "      <th></th>\n",
              "      <th></th>\n",
              "      <th></th>\n",
              "      <th></th>\n",
              "      <th></th>\n",
              "      <th></th>\n",
              "    </tr>\n",
              "  </thead>\n",
              "  <tbody>\n",
              "    <tr>\n",
              "      <th>2008-07-01</th>\n",
              "      <td>NaN</td>\n",
              "      <td>NaN</td>\n",
              "      <td>3.0</td>\n",
              "      <td>NaN</td>\n",
              "      <td>NaN</td>\n",
              "      <td>NaN</td>\n",
              "      <td>NaN</td>\n",
              "      <td>NaN</td>\n",
              "      <td>NaN</td>\n",
              "      <td>NaN</td>\n",
              "      <td>NaN</td>\n",
              "      <td>NaN</td>\n",
              "      <td>NaN</td>\n",
              "      <td>NaN</td>\n",
              "    </tr>\n",
              "    <tr>\n",
              "      <th>2008-08-01</th>\n",
              "      <td>8.0</td>\n",
              "      <td>85.0</td>\n",
              "      <td>511.0</td>\n",
              "      <td>164.0</td>\n",
              "      <td>14.0</td>\n",
              "      <td>NaN</td>\n",
              "      <td>222.0</td>\n",
              "      <td>162.0</td>\n",
              "      <td>28.0</td>\n",
              "      <td>161.0</td>\n",
              "      <td>124.0</td>\n",
              "      <td>NaN</td>\n",
              "      <td>73.0</td>\n",
              "      <td>NaN</td>\n",
              "    </tr>\n",
              "    <tr>\n",
              "      <th>2008-09-01</th>\n",
              "      <td>28.0</td>\n",
              "      <td>321.0</td>\n",
              "      <td>1649.0</td>\n",
              "      <td>755.0</td>\n",
              "      <td>105.0</td>\n",
              "      <td>NaN</td>\n",
              "      <td>1137.0</td>\n",
              "      <td>640.0</td>\n",
              "      <td>131.0</td>\n",
              "      <td>482.0</td>\n",
              "      <td>542.0</td>\n",
              "      <td>6.0</td>\n",
              "      <td>290.0</td>\n",
              "      <td>NaN</td>\n",
              "    </tr>\n",
              "    <tr>\n",
              "      <th>2008-10-01</th>\n",
              "      <td>15.0</td>\n",
              "      <td>303.0</td>\n",
              "      <td>1989.0</td>\n",
              "      <td>811.0</td>\n",
              "      <td>112.0</td>\n",
              "      <td>NaN</td>\n",
              "      <td>1153.0</td>\n",
              "      <td>725.0</td>\n",
              "      <td>127.0</td>\n",
              "      <td>617.0</td>\n",
              "      <td>510.0</td>\n",
              "      <td>NaN</td>\n",
              "      <td>249.0</td>\n",
              "      <td>NaN</td>\n",
              "    </tr>\n",
              "    <tr>\n",
              "      <th>2008-11-01</th>\n",
              "      <td>17.0</td>\n",
              "      <td>259.0</td>\n",
              "      <td>1730.0</td>\n",
              "      <td>735.0</td>\n",
              "      <td>141.0</td>\n",
              "      <td>NaN</td>\n",
              "      <td>958.0</td>\n",
              "      <td>579.0</td>\n",
              "      <td>97.0</td>\n",
              "      <td>504.0</td>\n",
              "      <td>452.0</td>\n",
              "      <td>1.0</td>\n",
              "      <td>160.0</td>\n",
              "      <td>NaN</td>\n",
              "    </tr>\n",
              "  </tbody>\n",
              "</table>\n",
              "</div>"
            ],
            "text/plain": [
              "tag         assembly      c      c#    c++  delphi  go    java  javascript  \\\n",
              "date                                                                         \n",
              "2008-07-01       NaN    NaN     3.0    NaN     NaN NaN     NaN         NaN   \n",
              "2008-08-01       8.0   85.0   511.0  164.0    14.0 NaN   222.0       162.0   \n",
              "2008-09-01      28.0  321.0  1649.0  755.0   105.0 NaN  1137.0       640.0   \n",
              "2008-10-01      15.0  303.0  1989.0  811.0   112.0 NaN  1153.0       725.0   \n",
              "2008-11-01      17.0  259.0  1730.0  735.0   141.0 NaN   958.0       579.0   \n",
              "\n",
              "tag          perl    php  python    r   ruby  swift  \n",
              "date                                                 \n",
              "2008-07-01    NaN    NaN     NaN  NaN    NaN    NaN  \n",
              "2008-08-01   28.0  161.0   124.0  NaN   73.0    NaN  \n",
              "2008-09-01  131.0  482.0   542.0  6.0  290.0    NaN  \n",
              "2008-10-01  127.0  617.0   510.0  NaN  249.0    NaN  \n",
              "2008-11-01   97.0  504.0   452.0  1.0  160.0    NaN  "
            ]
          },
          "execution_count": 157,
          "metadata": {},
          "output_type": "execute_result"
        }
      ],
      "source": [
        "reshaped_df = df.pivot(index='date', columns='tag', values='posts')\n",
        "reshaped_df.head()"
      ]
    },
    {
      "cell_type": "markdown",
      "metadata": {
        "colab_type": "text",
        "id": "BoDCuRU0GxvC"
      },
      "source": [
        "**Challenge**: Count the number of entries per programming language. Why might the number of entries be different? "
      ]
    },
    {
      "cell_type": "code",
      "execution_count": 160,
      "metadata": {
        "colab": {},
        "colab_type": "code",
        "id": "-peEFgaMGxvE"
      },
      "outputs": [
        {
          "data": {
            "text/plain": [
              "(145, 14)"
            ]
          },
          "execution_count": 160,
          "metadata": {},
          "output_type": "execute_result"
        }
      ],
      "source": [
        "reshaped_df.shape"
      ]
    },
    {
      "cell_type": "code",
      "execution_count": 161,
      "metadata": {},
      "outputs": [
        {
          "data": {
            "text/plain": [
              "tag\n",
              "assembly      144\n",
              "c             144\n",
              "c#            145\n",
              "c++           144\n",
              "delphi        144\n",
              "go            129\n",
              "java          144\n",
              "javascript    144\n",
              "perl          144\n",
              "php           144\n",
              "python        144\n",
              "r             142\n",
              "ruby          144\n",
              "swift         135\n",
              "dtype: int64"
            ]
          },
          "execution_count": 161,
          "metadata": {},
          "output_type": "execute_result"
        }
      ],
      "source": [
        "reshaped_df.count()"
      ]
    },
    {
      "cell_type": "code",
      "execution_count": 162,
      "metadata": {
        "colab": {},
        "colab_type": "code",
        "id": "01f2BCF8GxvG"
      },
      "outputs": [
        {
          "data": {
            "text/html": [
              "<div>\n",
              "<style scoped>\n",
              "    .dataframe tbody tr th:only-of-type {\n",
              "        vertical-align: middle;\n",
              "    }\n",
              "\n",
              "    .dataframe tbody tr th {\n",
              "        vertical-align: top;\n",
              "    }\n",
              "\n",
              "    .dataframe thead th {\n",
              "        text-align: right;\n",
              "    }\n",
              "</style>\n",
              "<table border=\"1\" class=\"dataframe\">\n",
              "  <thead>\n",
              "    <tr style=\"text-align: right;\">\n",
              "      <th>tag</th>\n",
              "      <th>assembly</th>\n",
              "      <th>c</th>\n",
              "      <th>c#</th>\n",
              "      <th>c++</th>\n",
              "      <th>delphi</th>\n",
              "      <th>go</th>\n",
              "      <th>java</th>\n",
              "      <th>javascript</th>\n",
              "      <th>perl</th>\n",
              "      <th>php</th>\n",
              "      <th>python</th>\n",
              "      <th>r</th>\n",
              "      <th>ruby</th>\n",
              "      <th>swift</th>\n",
              "    </tr>\n",
              "    <tr>\n",
              "      <th>date</th>\n",
              "      <th></th>\n",
              "      <th></th>\n",
              "      <th></th>\n",
              "      <th></th>\n",
              "      <th></th>\n",
              "      <th></th>\n",
              "      <th></th>\n",
              "      <th></th>\n",
              "      <th></th>\n",
              "      <th></th>\n",
              "      <th></th>\n",
              "      <th></th>\n",
              "      <th></th>\n",
              "      <th></th>\n",
              "    </tr>\n",
              "  </thead>\n",
              "  <tbody>\n",
              "    <tr>\n",
              "      <th>2020-03-01</th>\n",
              "      <td>317.0</td>\n",
              "      <td>2670.0</td>\n",
              "      <td>8954.0</td>\n",
              "      <td>5107.0</td>\n",
              "      <td>181.0</td>\n",
              "      <td>719.0</td>\n",
              "      <td>13253.0</td>\n",
              "      <td>20483.0</td>\n",
              "      <td>215.0</td>\n",
              "      <td>6672.0</td>\n",
              "      <td>26673.0</td>\n",
              "      <td>5761.0</td>\n",
              "      <td>780.0</td>\n",
              "      <td>3434.0</td>\n",
              "    </tr>\n",
              "    <tr>\n",
              "      <th>2020-04-01</th>\n",
              "      <td>406.0</td>\n",
              "      <td>3472.0</td>\n",
              "      <td>10042.0</td>\n",
              "      <td>6820.0</td>\n",
              "      <td>250.0</td>\n",
              "      <td>887.0</td>\n",
              "      <td>15377.0</td>\n",
              "      <td>24634.0</td>\n",
              "      <td>240.0</td>\n",
              "      <td>8060.0</td>\n",
              "      <td>32605.0</td>\n",
              "      <td>7047.0</td>\n",
              "      <td>860.0</td>\n",
              "      <td>4015.0</td>\n",
              "    </tr>\n",
              "    <tr>\n",
              "      <th>2020-05-01</th>\n",
              "      <td>386.0</td>\n",
              "      <td>3602.0</td>\n",
              "      <td>9923.0</td>\n",
              "      <td>7063.0</td>\n",
              "      <td>221.0</td>\n",
              "      <td>826.0</td>\n",
              "      <td>14711.0</td>\n",
              "      <td>25196.0</td>\n",
              "      <td>228.0</td>\n",
              "      <td>7917.0</td>\n",
              "      <td>34478.0</td>\n",
              "      <td>6833.0</td>\n",
              "      <td>774.0</td>\n",
              "      <td>4066.0</td>\n",
              "    </tr>\n",
              "    <tr>\n",
              "      <th>2020-06-01</th>\n",
              "      <td>363.0</td>\n",
              "      <td>2757.0</td>\n",
              "      <td>9064.0</td>\n",
              "      <td>6161.0</td>\n",
              "      <td>214.0</td>\n",
              "      <td>765.0</td>\n",
              "      <td>13015.0</td>\n",
              "      <td>23360.0</td>\n",
              "      <td>203.0</td>\n",
              "      <td>7188.0</td>\n",
              "      <td>31817.0</td>\n",
              "      <td>6249.0</td>\n",
              "      <td>670.0</td>\n",
              "      <td>3733.0</td>\n",
              "    </tr>\n",
              "    <tr>\n",
              "      <th>2020-07-01</th>\n",
              "      <td>298.0</td>\n",
              "      <td>2294.0</td>\n",
              "      <td>9145.0</td>\n",
              "      <td>5756.0</td>\n",
              "      <td>212.0</td>\n",
              "      <td>743.0</td>\n",
              "      <td>12723.0</td>\n",
              "      <td>23802.0</td>\n",
              "      <td>182.0</td>\n",
              "      <td>7334.0</td>\n",
              "      <td>31261.0</td>\n",
              "      <td>5694.0</td>\n",
              "      <td>775.0</td>\n",
              "      <td>3607.0</td>\n",
              "    </tr>\n",
              "  </tbody>\n",
              "</table>\n",
              "</div>"
            ],
            "text/plain": [
              "tag         assembly       c       c#     c++  delphi     go     java  \\\n",
              "date                                                                    \n",
              "2020-03-01     317.0  2670.0   8954.0  5107.0   181.0  719.0  13253.0   \n",
              "2020-04-01     406.0  3472.0  10042.0  6820.0   250.0  887.0  15377.0   \n",
              "2020-05-01     386.0  3602.0   9923.0  7063.0   221.0  826.0  14711.0   \n",
              "2020-06-01     363.0  2757.0   9064.0  6161.0   214.0  765.0  13015.0   \n",
              "2020-07-01     298.0  2294.0   9145.0  5756.0   212.0  743.0  12723.0   \n",
              "\n",
              "tag         javascript   perl     php   python       r   ruby   swift  \n",
              "date                                                                   \n",
              "2020-03-01     20483.0  215.0  6672.0  26673.0  5761.0  780.0  3434.0  \n",
              "2020-04-01     24634.0  240.0  8060.0  32605.0  7047.0  860.0  4015.0  \n",
              "2020-05-01     25196.0  228.0  7917.0  34478.0  6833.0  774.0  4066.0  \n",
              "2020-06-01     23360.0  203.0  7188.0  31817.0  6249.0  670.0  3733.0  \n",
              "2020-07-01     23802.0  182.0  7334.0  31261.0  5694.0  775.0  3607.0  "
            ]
          },
          "execution_count": 162,
          "metadata": {},
          "output_type": "execute_result"
        }
      ],
      "source": [
        "clean_df.tail()"
      ]
    },
    {
      "cell_type": "code",
      "execution_count": 164,
      "metadata": {
        "colab": {},
        "colab_type": "code",
        "id": "KooRRxAdGxvI"
      },
      "outputs": [],
      "source": [
        "reshaped_df.fillna(0, inplace=True)"
      ]
    },
    {
      "cell_type": "code",
      "execution_count": 165,
      "metadata": {},
      "outputs": [
        {
          "data": {
            "text/html": [
              "<div>\n",
              "<style scoped>\n",
              "    .dataframe tbody tr th:only-of-type {\n",
              "        vertical-align: middle;\n",
              "    }\n",
              "\n",
              "    .dataframe tbody tr th {\n",
              "        vertical-align: top;\n",
              "    }\n",
              "\n",
              "    .dataframe thead th {\n",
              "        text-align: right;\n",
              "    }\n",
              "</style>\n",
              "<table border=\"1\" class=\"dataframe\">\n",
              "  <thead>\n",
              "    <tr style=\"text-align: right;\">\n",
              "      <th>tag</th>\n",
              "      <th>assembly</th>\n",
              "      <th>c</th>\n",
              "      <th>c#</th>\n",
              "      <th>c++</th>\n",
              "      <th>delphi</th>\n",
              "      <th>go</th>\n",
              "      <th>java</th>\n",
              "      <th>javascript</th>\n",
              "      <th>perl</th>\n",
              "      <th>php</th>\n",
              "      <th>python</th>\n",
              "      <th>r</th>\n",
              "      <th>ruby</th>\n",
              "      <th>swift</th>\n",
              "    </tr>\n",
              "    <tr>\n",
              "      <th>date</th>\n",
              "      <th></th>\n",
              "      <th></th>\n",
              "      <th></th>\n",
              "      <th></th>\n",
              "      <th></th>\n",
              "      <th></th>\n",
              "      <th></th>\n",
              "      <th></th>\n",
              "      <th></th>\n",
              "      <th></th>\n",
              "      <th></th>\n",
              "      <th></th>\n",
              "      <th></th>\n",
              "      <th></th>\n",
              "    </tr>\n",
              "  </thead>\n",
              "  <tbody>\n",
              "    <tr>\n",
              "      <th>2008-07-01</th>\n",
              "      <td>0.0</td>\n",
              "      <td>0.0</td>\n",
              "      <td>3.0</td>\n",
              "      <td>0.0</td>\n",
              "      <td>0.0</td>\n",
              "      <td>0.0</td>\n",
              "      <td>0.0</td>\n",
              "      <td>0.0</td>\n",
              "      <td>0.0</td>\n",
              "      <td>0.0</td>\n",
              "      <td>0.0</td>\n",
              "      <td>0.0</td>\n",
              "      <td>0.0</td>\n",
              "      <td>0.0</td>\n",
              "    </tr>\n",
              "    <tr>\n",
              "      <th>2008-08-01</th>\n",
              "      <td>8.0</td>\n",
              "      <td>85.0</td>\n",
              "      <td>511.0</td>\n",
              "      <td>164.0</td>\n",
              "      <td>14.0</td>\n",
              "      <td>0.0</td>\n",
              "      <td>222.0</td>\n",
              "      <td>162.0</td>\n",
              "      <td>28.0</td>\n",
              "      <td>161.0</td>\n",
              "      <td>124.0</td>\n",
              "      <td>0.0</td>\n",
              "      <td>73.0</td>\n",
              "      <td>0.0</td>\n",
              "    </tr>\n",
              "    <tr>\n",
              "      <th>2008-09-01</th>\n",
              "      <td>28.0</td>\n",
              "      <td>321.0</td>\n",
              "      <td>1649.0</td>\n",
              "      <td>755.0</td>\n",
              "      <td>105.0</td>\n",
              "      <td>0.0</td>\n",
              "      <td>1137.0</td>\n",
              "      <td>640.0</td>\n",
              "      <td>131.0</td>\n",
              "      <td>482.0</td>\n",
              "      <td>542.0</td>\n",
              "      <td>6.0</td>\n",
              "      <td>290.0</td>\n",
              "      <td>0.0</td>\n",
              "    </tr>\n",
              "    <tr>\n",
              "      <th>2008-10-01</th>\n",
              "      <td>15.0</td>\n",
              "      <td>303.0</td>\n",
              "      <td>1989.0</td>\n",
              "      <td>811.0</td>\n",
              "      <td>112.0</td>\n",
              "      <td>0.0</td>\n",
              "      <td>1153.0</td>\n",
              "      <td>725.0</td>\n",
              "      <td>127.0</td>\n",
              "      <td>617.0</td>\n",
              "      <td>510.0</td>\n",
              "      <td>0.0</td>\n",
              "      <td>249.0</td>\n",
              "      <td>0.0</td>\n",
              "    </tr>\n",
              "    <tr>\n",
              "      <th>2008-11-01</th>\n",
              "      <td>17.0</td>\n",
              "      <td>259.0</td>\n",
              "      <td>1730.0</td>\n",
              "      <td>735.0</td>\n",
              "      <td>141.0</td>\n",
              "      <td>0.0</td>\n",
              "      <td>958.0</td>\n",
              "      <td>579.0</td>\n",
              "      <td>97.0</td>\n",
              "      <td>504.0</td>\n",
              "      <td>452.0</td>\n",
              "      <td>1.0</td>\n",
              "      <td>160.0</td>\n",
              "      <td>0.0</td>\n",
              "    </tr>\n",
              "  </tbody>\n",
              "</table>\n",
              "</div>"
            ],
            "text/plain": [
              "tag         assembly      c      c#    c++  delphi   go    java  javascript  \\\n",
              "date                                                                          \n",
              "2008-07-01       0.0    0.0     3.0    0.0     0.0  0.0     0.0         0.0   \n",
              "2008-08-01       8.0   85.0   511.0  164.0    14.0  0.0   222.0       162.0   \n",
              "2008-09-01      28.0  321.0  1649.0  755.0   105.0  0.0  1137.0       640.0   \n",
              "2008-10-01      15.0  303.0  1989.0  811.0   112.0  0.0  1153.0       725.0   \n",
              "2008-11-01      17.0  259.0  1730.0  735.0   141.0  0.0   958.0       579.0   \n",
              "\n",
              "tag          perl    php  python    r   ruby  swift  \n",
              "date                                                 \n",
              "2008-07-01    0.0    0.0     0.0  0.0    0.0    0.0  \n",
              "2008-08-01   28.0  161.0   124.0  0.0   73.0    0.0  \n",
              "2008-09-01  131.0  482.0   542.0  6.0  290.0    0.0  \n",
              "2008-10-01  127.0  617.0   510.0  0.0  249.0    0.0  \n",
              "2008-11-01   97.0  504.0   452.0  1.0  160.0    0.0  "
            ]
          },
          "execution_count": 165,
          "metadata": {},
          "output_type": "execute_result"
        }
      ],
      "source": [
        "reshaped_df.head()"
      ]
    },
    {
      "cell_type": "code",
      "execution_count": 166,
      "metadata": {},
      "outputs": [
        {
          "data": {
            "text/plain": [
              "np.False_"
            ]
          },
          "execution_count": 166,
          "metadata": {},
          "output_type": "execute_result"
        }
      ],
      "source": [
        "reshaped_df.isna().values.any()"
      ]
    },
    {
      "cell_type": "markdown",
      "metadata": {
        "colab_type": "text",
        "id": "8xU7l_f4GxvK"
      },
      "source": [
        "## Data Visualisaton with with Matplotlib\n"
      ]
    },
    {
      "cell_type": "markdown",
      "metadata": {
        "colab_type": "text",
        "id": "njnNXTlhGxvK"
      },
      "source": [
        "**Challenge**: Use the [matplotlib documentation](https://matplotlib.org/3.2.1/api/_as_gen/matplotlib.pyplot.plot.html#matplotlib.pyplot.plot) to plot a single programming language (e.g., java) on a chart."
      ]
    },
    {
      "cell_type": "code",
      "execution_count": 169,
      "metadata": {
        "colab": {},
        "colab_type": "code",
        "id": "S0OS8T8iGxvL"
      },
      "outputs": [
        {
          "data": {
            "text/plain": [
              "[<matplotlib.lines.Line2D at 0x7f8ee9850490>]"
            ]
          },
          "execution_count": 169,
          "metadata": {},
          "output_type": "execute_result"
        },
        {
          "data": {
            "image/png": "[encoded data removed]",
            "text/plain": [
              "<Figure size 640x480 with 1 Axes>"
            ]
          },
          "metadata": {},
          "output_type": "display_data"
        }
      ],
      "source": [
        "plt.plot(reshaped_df.index, reshaped_df['java'])"
      ]
    },
    {
      "cell_type": "code",
      "execution_count": 188,
      "metadata": {
        "colab": {},
        "colab_type": "code",
        "id": "EU6AV1l9GxvM"
      },
      "outputs": [
        {
          "ename": "KeyError",
          "evalue": "'rust'",
          "output_type": "error",
          "traceback": [
            "\u001b[0;31m---------------------------------------------------------------------------\u001b[0m",
            "\u001b[0;31mKeyError\u001b[0m                                  Traceback (most recent call last)",
            "File \u001b[0;32m~/.local/lib/python3.10/site-packages/pandas/core/indexes/base.py:3805\u001b[0m, in \u001b[0;36mIndex.get_loc\u001b[0;34m(self, key)\u001b[0m\n\u001b[1;32m   3804\u001b[0m \u001b[38;5;28;01mtry\u001b[39;00m:\n\u001b[0;32m-> 3805\u001b[0m     \u001b[38;5;28;01mreturn\u001b[39;00m \u001b[38;5;28;43mself\u001b[39;49m\u001b[38;5;241;43m.\u001b[39;49m\u001b[43m_engine\u001b[49m\u001b[38;5;241;43m.\u001b[39;49m\u001b[43mget_loc\u001b[49m\u001b[43m(\u001b[49m\u001b[43mcasted_key\u001b[49m\u001b[43m)\u001b[49m\n\u001b[1;32m   3806\u001b[0m \u001b[38;5;28;01mexcept\u001b[39;00m \u001b[38;5;167;01mKeyError\u001b[39;00m \u001b[38;5;28;01mas\u001b[39;00m err:\n",
            "File \u001b[0;32mindex.pyx:167\u001b[0m, in \u001b[0;36mpandas._libs.index.IndexEngine.get_loc\u001b[0;34m()\u001b[0m\n",
            "File \u001b[0;32mindex.pyx:196\u001b[0m, in \u001b[0;36mpandas._libs.index.IndexEngine.get_loc\u001b[0;34m()\u001b[0m\n",
            "File \u001b[0;32mpandas/_libs/hashtable_class_helper.pxi:7081\u001b[0m, in \u001b[0;36mpandas._libs.hashtable.PyObjectHashTable.get_item\u001b[0;34m()\u001b[0m\n",
            "File \u001b[0;32mpandas/_libs/hashtable_class_helper.pxi:7089\u001b[0m, in \u001b[0;36mpandas._libs.hashtable.PyObjectHashTable.get_item\u001b[0;34m()\u001b[0m\n",
            "\u001b[0;31mKeyError\u001b[0m: 'rust'",
            "\nThe above exception was the direct cause of the following exception:\n",
            "\u001b[0;31mKeyError\u001b[0m                                  Traceback (most recent call last)",
            "Cell \u001b[0;32mIn[188], line 8\u001b[0m\n\u001b[1;32m      6\u001b[0m plt\u001b[38;5;241m.\u001b[39mplot(reshaped_df\u001b[38;5;241m.\u001b[39mindex, reshaped_df[\u001b[38;5;124m'\u001b[39m\u001b[38;5;124mjava\u001b[39m\u001b[38;5;124m'\u001b[39m])\n\u001b[1;32m      7\u001b[0m plt\u001b[38;5;241m.\u001b[39mplot(reshaped_df\u001b[38;5;241m.\u001b[39mindex, reshaped_df[\u001b[38;5;124m'\u001b[39m\u001b[38;5;124mpython\u001b[39m\u001b[38;5;124m'\u001b[39m])\n\u001b[0;32m----> 8\u001b[0m plt\u001b[38;5;241m.\u001b[39mplot(reshaped_df\u001b[38;5;241m.\u001b[39mindex, \u001b[43mreshaped_df\u001b[49m\u001b[43m[\u001b[49m\u001b[38;5;124;43m'\u001b[39;49m\u001b[38;5;124;43mrust\u001b[39;49m\u001b[38;5;124;43m'\u001b[39;49m\u001b[43m]\u001b[49m)\n",
            "File \u001b[0;32m~/.local/lib/python3.10/site-packages/pandas/core/frame.py:4102\u001b[0m, in \u001b[0;36mDataFrame.__getitem__\u001b[0;34m(self, key)\u001b[0m\n\u001b[1;32m   4100\u001b[0m \u001b[38;5;28;01mif\u001b[39;00m \u001b[38;5;28mself\u001b[39m\u001b[38;5;241m.\u001b[39mcolumns\u001b[38;5;241m.\u001b[39mnlevels \u001b[38;5;241m>\u001b[39m \u001b[38;5;241m1\u001b[39m:\n\u001b[1;32m   4101\u001b[0m     \u001b[38;5;28;01mreturn\u001b[39;00m \u001b[38;5;28mself\u001b[39m\u001b[38;5;241m.\u001b[39m_getitem_multilevel(key)\n\u001b[0;32m-> 4102\u001b[0m indexer \u001b[38;5;241m=\u001b[39m \u001b[38;5;28;43mself\u001b[39;49m\u001b[38;5;241;43m.\u001b[39;49m\u001b[43mcolumns\u001b[49m\u001b[38;5;241;43m.\u001b[39;49m\u001b[43mget_loc\u001b[49m\u001b[43m(\u001b[49m\u001b[43mkey\u001b[49m\u001b[43m)\u001b[49m\n\u001b[1;32m   4103\u001b[0m \u001b[38;5;28;01mif\u001b[39;00m is_integer(indexer):\n\u001b[1;32m   4104\u001b[0m     indexer \u001b[38;5;241m=\u001b[39m [indexer]\n",
            "File \u001b[0;32m~/.local/lib/python3.10/site-packages/pandas/core/indexes/base.py:3812\u001b[0m, in \u001b[0;36mIndex.get_loc\u001b[0;34m(self, key)\u001b[0m\n\u001b[1;32m   3807\u001b[0m     \u001b[38;5;28;01mif\u001b[39;00m \u001b[38;5;28misinstance\u001b[39m(casted_key, \u001b[38;5;28mslice\u001b[39m) \u001b[38;5;129;01mor\u001b[39;00m (\n\u001b[1;32m   3808\u001b[0m         \u001b[38;5;28misinstance\u001b[39m(casted_key, abc\u001b[38;5;241m.\u001b[39mIterable)\n\u001b[1;32m   3809\u001b[0m         \u001b[38;5;129;01mand\u001b[39;00m \u001b[38;5;28many\u001b[39m(\u001b[38;5;28misinstance\u001b[39m(x, \u001b[38;5;28mslice\u001b[39m) \u001b[38;5;28;01mfor\u001b[39;00m x \u001b[38;5;129;01min\u001b[39;00m casted_key)\n\u001b[1;32m   3810\u001b[0m     ):\n\u001b[1;32m   3811\u001b[0m         \u001b[38;5;28;01mraise\u001b[39;00m InvalidIndexError(key)\n\u001b[0;32m-> 3812\u001b[0m     \u001b[38;5;28;01mraise\u001b[39;00m \u001b[38;5;167;01mKeyError\u001b[39;00m(key) \u001b[38;5;28;01mfrom\u001b[39;00m \u001b[38;5;21;01merr\u001b[39;00m\n\u001b[1;32m   3813\u001b[0m \u001b[38;5;28;01mexcept\u001b[39;00m \u001b[38;5;167;01mTypeError\u001b[39;00m:\n\u001b[1;32m   3814\u001b[0m     \u001b[38;5;66;03m# If we have a listlike key, _check_indexing_error will raise\u001b[39;00m\n\u001b[1;32m   3815\u001b[0m     \u001b[38;5;66;03m#  InvalidIndexError. Otherwise we fall through and re-raise\u001b[39;00m\n\u001b[1;32m   3816\u001b[0m     \u001b[38;5;66;03m#  the TypeError.\u001b[39;00m\n\u001b[1;32m   3817\u001b[0m     \u001b[38;5;28mself\u001b[39m\u001b[38;5;241m.\u001b[39m_check_indexing_error(key)\n",
            "\u001b[0;31mKeyError\u001b[0m: 'rust'"
          ]
        },
        {
          "data": {
            "image/png": "[encoded data removed]",
            "text/plain": [
              "<Figure size 1200x500 with 1 Axes>"
            ]
          },
          "metadata": {},
          "output_type": "display_data"
        }
      ],
      "source": [
        "plt.figure(figsize=(12,5))\n",
        "plt.xticks(rotation=45)\n",
        "plt.xlabel('date', fontsize=20)\n",
        "plt.ylabel('java post count', fontsize=20)\n",
        "plt.ylim(0, 35000)\n",
        "plt.plot(reshaped_df.index, reshaped_df['java'])\n",
        "plt.plot(reshaped_df.index, reshaped_df['python'])\n",
        "plt.plot(reshaped_df.index, reshaped_df['rust'])\n"
      ]
    },
    {
      "cell_type": "code",
      "execution_count": null,
      "metadata": {},
      "outputs": [],
      "source": []
    },
    {
      "cell_type": "code",
      "execution_count": null,
      "metadata": {},
      "outputs": [],
      "source": []
    },
    {
      "cell_type": "code",
      "execution_count": null,
      "metadata": {},
      "outputs": [],
      "source": [
        "clean_df.insert(1, 'Spread', spread_col)"
      ]
    },
    {
      "cell_type": "code",
      "execution_count": 5,
      "metadata": {
        "colab": {},
        "colab_type": "code",
        "id": "_Qzzg6b_GxvO"
      },
      "outputs": [],
      "source": []
    },
    {
      "cell_type": "markdown",
      "metadata": {
        "colab_type": "text",
        "id": "Sm2DL5tZGxvQ"
      },
      "source": [
        "**Challenge**: Show two line (e.g. for Java and Python) on the same chart."
      ]
    },
    {
      "cell_type": "code",
      "execution_count": 5,
      "metadata": {
        "colab": {},
        "colab_type": "code",
        "id": "T-0vClQSGxvQ"
      },
      "outputs": [],
      "source": []
    },
    {
      "cell_type": "markdown",
      "metadata": {
        "colab_type": "text",
        "id": "3jSjfPy7GxvY"
      },
      "source": [
        "# Smoothing out Time Series Data\n",
        "\n",
        "Time series data can be quite noisy, with a lot of up and down spikes. To better see a trend we can plot an average of, say 6 or 12 observations. This is called the rolling mean. We calculate the average in a window of time and move it forward by one overservation. Pandas has two handy methods already built in to work this out: [rolling()](https://pandas.pydata.org/pandas-docs/stable/reference/api/pandas.DataFrame.rolling.html) and [mean()](https://pandas.pydata.org/pandas-docs/stable/reference/api/pandas.core.window.rolling.Rolling.mean.html). "
      ]
    },
    {
      "cell_type": "code",
      "execution_count": null,
      "metadata": {
        "colab": {},
        "colab_type": "code",
        "id": "s3WYd3OgGxvc"
      },
      "outputs": [],
      "source": []
    },
    {
      "cell_type": "code",
      "execution_count": null,
      "metadata": {
        "colab": {},
        "colab_type": "code",
        "id": "WMJOX8Y2Gxvd"
      },
      "outputs": [],
      "source": []
    },
    {
      "cell_type": "code",
      "execution_count": null,
      "metadata": {
        "colab": {},
        "colab_type": "code",
        "id": "fAvvarA7Gxvf"
      },
      "outputs": [],
      "source": []
    },
    {
      "cell_type": "code",
      "execution_count": null,
      "metadata": {
        "colab": {},
        "colab_type": "code",
        "id": "Gm0Ww0S4Gxvg"
      },
      "outputs": [],
      "source": []
    }
  ],
  "metadata": {
    "colab": {
      "name": "Programming Languages (start).ipynb",
      "provenance": []
    },
    "kernelspec": {
      "display_name": "Python 3",
      "language": "python",
      "name": "python3"
    },
    "language_info": {
      "codemirror_mode": {
        "name": "ipython",
        "version": 3
      },
      "file_extension": ".py",
      "mimetype": "text/x-python",
      "name": "python",
      "nbconvert_exporter": "python",
      "pygments_lexer": "ipython3",
      "version": "3.10.12"
    }
  },
  "nbformat": 4,
  "nbformat_minor": 0
}
